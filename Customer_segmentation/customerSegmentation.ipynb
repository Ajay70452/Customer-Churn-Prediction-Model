{
 "cells": [
  {
   "cell_type": "code",
   "execution_count": null,
   "id": "27df380c",
   "metadata": {},
   "outputs": [],
   "source": [
    "# Project: Customer Segmentation using RFM & K-Means Clustering\n",
    "\n",
    "Business Goal: To segment our customer base into meaningful groups to enable targeted marketing, improve retention, and increase customer lifetime value.\n",
    "\n",
    "Methodology:\n",
    "1.  Data Loading & EDA: Load and inspect the transactional data.\n",
    "2.  Feature Engineering: Calculate Recency, Frequency, and Monetary (RFM) scores for each customer.\n",
    "3.  Data Preprocessing: Handle data skewness and scale features for the clustering algorithm.\n",
    "4.  Modeling: Use K-Means to find customer clusters and the Elbow Method to determine the optimal number of clusters.\n",
    "5.  Segment Profiling: Analyze the characteristics of each cluster to create business-friendly personas.\n",
    "6.  Export: Save the final segmented data for visualization in Tableau."
   ]
  },
  {
   "cell_type": "code",
   "execution_count": null,
   "id": "a4117217",
   "metadata": {},
   "outputs": [],
   "source": [
    "import pandas as pd\n",
    "import numpy as np\n",
    "import datetime as dt\n",
    "import matplotlib.pyplot as plt\n",
    "import seaborn as sns\n",
    "\n",
    "from sklearn.preprocessing import StandardScaler\n",
    "from sklearn.cluster import KMeans\n",
    "\n",
    "# Set plot style\n",
    "sns.set(style=\"whitegrid\")"
   ]
  },
  {
   "cell_type": "code",
   "execution_count": null,
   "id": "4be68011",
   "metadata": {},
   "outputs": [],
   "source": [
    "\n",
    "df = pd.read_csv('customers.csv')\n",
    "\n",
    "\n",
    "print(\"Data Information:\")\n",
    "df.info()\n",
    "\n",
    "print(\"\\nMissing Values:\")\n",
    "print(df.isnull().sum())\n",
    "\n",
    "print(\"\\nData Head:\")\n",
    "print(df.head())\n",
    "\n",
    "df['OrderDate'] = pd.to_datetime(df['OrderDate'])"
   ]
  },
  {
   "cell_type": "markdown",
   "id": "c5096bb7",
   "metadata": {},
   "source": [
    "### Calculating RFM (Recency, Frequency, Monetary)\n",
    "\n",
    "Recency: Days since the last purchase. Lower is better.\n",
    "Frequency: Total number of purchases. Higher is better.\n",
    "Monetary: Total value of purchases. Higher is better."
   ]
  },
  {
   "cell_type": "code",
   "execution_count": null,
   "id": "bce12213",
   "metadata": {},
   "outputs": [],
   "source": [
    "# We'll set a \"snapshot date\" to calculate recency as if we're running this report today.\n",
    "# Let's use one day after the last transaction date.\n",
    "snapshot_date = df['OrderDate'].max() + dt.timedelta(days=1)\n",
    "print(f\"Snapshot Date: {snapshot_date}\")\n",
    "\n",
    "# Calculate RFM values for each customer\n",
    "rfm_df = df.groupby('CustomerID').agg({\n",
    "    'OrderDate': lambda date: (snapshot_date - date.max()).days,\n",
    "    'OrderID': 'count',\n",
    "    'OrderValue': 'sum'\n",
    "})\n",
    "\n",
    "# Rename columns for clarity\n",
    "rfm_df.rename(columns={'OrderDate': 'Recency',\n",
    "                       'OrderID': 'Frequency',\n",
    "                       'OrderValue': 'Monetary'}, inplace=True)\n",
    "\n",
    "print(\"\\nRFM DataFrame:\")\n",
    "print(rfm_df.head())"
   ]
  },
  {
   "cell_type": "markdown",
   "id": "f2ef5d3c",
   "metadata": {},
   "source": [
    "### Preprocessing RFM Data\n",
    "\n",
    "K-Means is sensitive to the scale of data and works best on normally distributed data. Our RFM values are right-skewed. We will:\n",
    "1.  Apply a log transformation to reduce skewness.\n",
    "2.  Scale the data to have a mean of 0 and a standard deviation of 1."
   ]
  },
  {
   "cell_type": "code",
   "execution_count": null,
   "id": "a0b8cd0a",
   "metadata": {},
   "outputs": [],
   "source": [
    "# Plot distributions to check for skewness\n",
    "plt.figure(figsize=(12, 6))\n",
    "plt.subplot(1, 3, 1)\n",
    "sns.histplot(rfm_df['Recency'], kde=True, bins=20).set_title('Recency Distribution')\n",
    "plt.subplot(1, 3, 2)\n",
    "sns.histplot(rfm_df['Frequency'], kde=True, bins=20).set_title('Frequency Distribution')\n",
    "plt.subplot(1, 3, 3)\n",
    "sns.histplot(rfm_df['Monetary'], kde=True, bins=20).set_title('Monetary Distribution')\n",
    "plt.tight_layout()\n",
    "plt.show()\n",
    "\n",
    "# Apply log transformation (using np.log1p to handle potential zeros)\n",
    "rfm_log = np.log1p(rfm_df)\n",
    "\n",
    "# Scale the data\n",
    "scaler = StandardScaler()\n",
    "rfm_scaled = scaler.fit_transform(rfm_log)\n",
    "rfm_scaled = pd.DataFrame(rfm_scaled, index=rfm_df.index, columns=rfm_df.columns)\n",
    "\n",
    "print(\"\\nScaled RFM Data (Head):\")\n",
    "print(rfm_scaled.head())"
   ]
  },
  {
   "cell_type": "markdown",
   "id": "dad7f1ef",
   "metadata": {},
   "source": [
    "### The Elbow Method\n",
    "We will run K-Means for a range of cluster numbers (K) and plot the Within-Cluster Sum of Squares (WCSS). The \"elbow\" point on the plot indicates the optimal number of clusters to use."
   ]
  },
  {
   "cell_type": "code",
   "execution_count": null,
   "id": "db711704",
   "metadata": {},
   "outputs": [],
   "source": [
    "# Find the optimal number of clusters\n",
    "wcss = {}\n",
    "for k in range(1, 11):\n",
    "    kmeans = KMeans(n_clusters=k, init='k-means++', max_iter=300, random_state=42, n_init=10)\n",
    "    kmeans.fit(rfm_scaled)\n",
    "    wcss[k] = kmeans.inertia_\n",
    "\n",
    "# Plot the Elbow Method graph\n",
    "plt.figure(figsize=(8, 5))\n",
    "plt.plot(list(wcss.keys()), list(wcss.values()), 'o-')\n",
    "plt.xlabel('Number of Clusters (K)')\n",
    "plt.ylabel('WCSS')\n",
    "plt.title('Elbow Method for Optimal K')\n",
    "plt.show()"
   ]
  },
  {
   "cell_type": "code",
   "execution_count": null,
   "id": "b921d588",
   "metadata": {},
   "outputs": [],
   "source": [
    "# Build K-Means model with the chosen K\n",
    "k = 4\n",
    "kmeans = KMeans(n_clusters=k, init='k-means++', max_iter=300, random_state=42, n_init=10)\n",
    "kmeans.fit(rfm_scaled)\n",
    "\n",
    "# Assign the cluster labels to our original RFM dataframe\n",
    "rfm_df['Cluster'] = kmeans.labels_\n",
    "\n",
    "print(\"\\nRFM Data with Cluster Labels:\")\n",
    "print(rfm_df.head())"
   ]
  },
  {
   "cell_type": "markdown",
   "id": "e0154b65",
   "metadata": {},
   "source": [
    "### Segment Profiling\n",
    "This is the most critical step for a Business Analyst. We translate the numerical clusters into actionable, human-readable business personas by analyzing the mean RFM values for each group."
   ]
  },
  {
   "cell_type": "code",
   "execution_count": null,
   "id": "e4eb878b",
   "metadata": {},
   "outputs": [],
   "source": [
    "# Analyze the characteristics of each cluster\n",
    "cluster_profile = rfm_df.groupby('Cluster').agg({\n",
    "    'Recency': 'mean',\n",
    "    'Frequency': 'mean',\n",
    "    'Monetary': ['mean', 'count']\n",
    "}).round(2)\n",
    "\n",
    "print(\"\\nCluster Profile:\")\n",
    "print(cluster_profile)\n",
    "\n",
    "# --- Naming the Segments (BA Interpretation) ---\n",
    "# This requires analyzing the output above. The names will depend on your data.\n",
    "# Example mapping based on a typical result:\n",
    "# Cluster 0: Low R, High F, High M -> Champions\n",
    "# Cluster 1: High R, Low F, Low M -> Hibernating\n",
    "# Cluster 2: Low R, Low F, Low M  -> New/Potential\n",
    "# Cluster 3: Mid R, Mid F, Mid M  -> Loyal Customers\n",
    "#\n",
    "# IMPORTANT: Check your cluster_profile output and adjust the map accordingly!\n",
    "segment_map = {\n",
    "    cluster_profile.sort_values(by=('Recency', 'mean'), ascending=True).index[0]: 'Champions',\n",
    "    cluster_profile.sort_values(by=('Recency', 'mean'), ascending=True).index[1]: 'Loyal Customers',\n",
    "    cluster_profile.sort_values(by=('Frequency', 'mean'), ascending=False).index[2]: 'At-Risk',\n",
    "    cluster_profile.sort_values(by=('Frequency', 'mean'), ascending=False).index[3]: 'Hibernating'\n",
    "}\n",
    "\n",
    "\n",
    "rfm_df['Segment'] = rfm_df['Cluster'].map(segment_map)\n",
    "\n",
    "print(\"\\nFinal DataFrame with Segment Personas:\")\n",
    "print(rfm_df.head())"
   ]
  },
  {
   "cell_type": "code",
   "execution_count": null,
   "id": "082fc90e",
   "metadata": {},
   "outputs": [],
   "source": [
    "# Visualize the segments\n",
    "plt.figure(figsize=(10, 7))\n",
    "sns.scatterplot(data=rfm_df, x='Recency', y='Frequency', hue='Segment', size='Monetary', sizes=(50, 500), alpha=0.7)\n",
    "plt.title('Customer Segments by RFM')\n",
    "plt.gca().invert_xaxis() # Lower recency is better, so we invert the x-axis\n",
    "plt.legend(title='Segment')\n",
    "plt.show()\n",
    "\n",
    "# Export the final data for Tableau\n",
    "# We reset the index to make CustomerID a column\n",
    "final_data = rfm_df.reset_index()\n",
    "final_data.to_csv('customer_segments.csv', index=False)\n",
    "\n",
    "print(\"\\n'customer_segments.csv' has been created successfully for Tableau.\")"
   ]
  }
 ],
 "metadata": {
  "language_info": {
   "name": "python"
  }
 },
 "nbformat": 4,
 "nbformat_minor": 5
}
